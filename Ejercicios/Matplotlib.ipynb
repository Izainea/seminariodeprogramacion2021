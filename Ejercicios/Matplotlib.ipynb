{
 "cells": [
  {
   "cell_type": "markdown",
   "metadata": {
    "toc": true
   },
   "source": [
    "<h1>Matplotlib - Gráficos en Python<span class=\"tocSkip\"></span></h1>\n",
    "<div class=\"toc\"><ul class=\"toc-item\"><li><span><a href=\"#Introducción-Matplotlib\" data-toc-modified-id=\"Introducción-Matplotlib-1\"><span class=\"toc-item-num\">1&nbsp;&nbsp;</span>Introducción Matplotlib</a></span><ul class=\"toc-item\"><li><span><a href=\"#¿Cómo-funciona?\" data-toc-modified-id=\"¿Cómo-funciona?-1.1\"><span class=\"toc-item-num\">1.1&nbsp;&nbsp;</span>¿Cómo funciona?</a></span></li><li><span><a href=\"#Partes-de-una-figura\" data-toc-modified-id=\"Partes-de-una-figura-1.2\"><span class=\"toc-item-num\">1.2&nbsp;&nbsp;</span>Partes de una figura</a></span></li><li><span><a href=\"#Diferentes-tipos-de-gráficos\" data-toc-modified-id=\"Diferentes-tipos-de-gráficos-1.3\"><span class=\"toc-item-num\">1.3&nbsp;&nbsp;</span>Diferentes tipos de gráficos</a></span><ul class=\"toc-item\"><li><span><a href=\"#El-commando-plt.plot()\" data-toc-modified-id=\"El-commando-plt.plot()-1.3.1\"><span class=\"toc-item-num\">1.3.1&nbsp;&nbsp;</span>El commando <code>plt.plot()</code></a></span></li><li><span><a href=\"#Gráficos-de-dispersión\" data-toc-modified-id=\"Gráficos-de-dispersión-1.3.2\"><span class=\"toc-item-num\">1.3.2&nbsp;&nbsp;</span>Gráficos de dispersión</a></span></li><li><span><a href=\"#Gráficos-para-variables-categóricas\" data-toc-modified-id=\"Gráficos-para-variables-categóricas-1.3.3\"><span class=\"toc-item-num\">1.3.3&nbsp;&nbsp;</span>Gráficos para variables categóricas</a></span></li><li><span><a href=\"#Graficador-de-funciones\" data-toc-modified-id=\"Graficador-de-funciones-1.3.4\"><span class=\"toc-item-num\">1.3.4&nbsp;&nbsp;</span>Graficador de funciones</a></span></li><li><span><a href=\"#Texto-en-las-gráficas\" data-toc-modified-id=\"Texto-en-las-gráficas-1.3.5\"><span class=\"toc-item-num\">1.3.5&nbsp;&nbsp;</span>Texto en las gráficas</a></span></li></ul></li><li><span><a href=\"#Backends\" data-toc-modified-id=\"Backends-1.4\"><span class=\"toc-item-num\">1.4&nbsp;&nbsp;</span>Backends</a></span></li></ul></li><li><span><a href=\"#Herramientas-interactivas-ipywidgets\" data-toc-modified-id=\"Herramientas-interactivas-ipywidgets-2\"><span class=\"toc-item-num\">2&nbsp;&nbsp;</span>Herramientas interactivas <code>ipywidgets</code></a></span><ul class=\"toc-item\"><li><span><a href=\"#Una-primera-aplicación\" data-toc-modified-id=\"Una-primera-aplicación-2.1\"><span class=\"toc-item-num\">2.1&nbsp;&nbsp;</span>Una primera aplicación</a></span></li></ul></li></ul></div>"
   ]
  },
  {
   "cell_type": "markdown",
   "metadata": {},
   "source": [
    "# Introducción Matplotlib\n",
    "\n",
    "El paquete para construir gráficos por excelencia en Python es [Matplotlib](https://matplotlib.org/3.2.2/index.html), una de las librerías más usadas para crear todo tipo de visualizaciones  . Para nosotros es muy importante manejar esta herramienta ya que en múltiples ocasiones la dificultad de muchas explicaciones se resuelven fácilmente con un buen gráfico. En este cuaderno veremos algunos componentes básicos de la graficación con Matplotlib, las partes del gráfico, la definición de `figure()`, unas configuraciones simples y algunas personalizaciones elementales. "
   ]
  },
  {
   "cell_type": "markdown",
   "metadata": {},
   "source": [
    "## ¿Cómo funciona?\n",
    "\n",
    "Matplotlib grafica sus datos sobre una instancia llamada `Figure`, cada una de estas contendrá uno o más `Axes` (un área en la que los puntos tienen coordenadas). Usualmente se utiliza la interfaz [pyplot](https://matplotlib.org/3.2.2/api/pyplot_summary.html) basada en algunos estilos y comandos de MATLAB. \n",
    "\n",
    "Veamos un sencillo ejemplo:"
   ]
  },
  {
   "cell_type": "code",
   "execution_count": null,
   "metadata": {},
   "outputs": [],
   "source": [
    "import matplotlib.pyplot as plt\n",
    "import numpy as np\n",
    "%matplotlib inline\n",
    "fig, ax = plt.subplots()  # Creamos una figura con un sistema de ejes.\n",
    "ax.plot([1, 2, 3, 4], [1, 4, 2, 3])  # Pintamos algunos datos."
   ]
  },
  {
   "cell_type": "markdown",
   "metadata": {},
   "source": [
    "Sin necesidad de fijar los ejes de una figura podemos hacer el mismo gráfico:"
   ]
  },
  {
   "cell_type": "code",
   "execution_count": null,
   "metadata": {},
   "outputs": [],
   "source": [
    "plt.plot([1, 2, 3, 4], [1, 4, 2, 3]) "
   ]
  },
  {
   "cell_type": "markdown",
   "metadata": {},
   "source": [
    "## Partes de una figura\n",
    "\n",
    "Veamos los componentes de una figura de Matplotlib:\n",
    "\n",
    "![figure](https://matplotlib.org/3.2.2/_images/anatomy.png)\n",
    "\n",
    "*Tomado de [https://matplotlib.org/3.2.2/tutorials/introductory/usage.html#sphx-glr-tutorials-introductory-usage-py](https://matplotlib.org/3.2.2/tutorials/introductory/usage.html#sphx-glr-tutorials-introductory-usage-py)*"
   ]
  },
  {
   "cell_type": "markdown",
   "metadata": {},
   "source": [
    "Sin necesidad de definir nuevas figuras veamos un ejemplo con algunos elementos descritos en la figura:"
   ]
  },
  {
   "cell_type": "code",
   "execution_count": null,
   "metadata": {},
   "outputs": [],
   "source": [
    "np.linspace(0, 10, 101)"
   ]
  },
  {
   "cell_type": "code",
   "execution_count": null,
   "metadata": {},
   "outputs": [],
   "source": [
    "np.sin(x)"
   ]
  },
  {
   "cell_type": "code",
   "execution_count": null,
   "metadata": {},
   "outputs": [],
   "source": [
    "x = np.linspace(0, 10, 101)\n",
    "\n",
    "plt.plot(x, np.tan(x), label='sin(x)')\n",
    "plt.legend()\n",
    "plt.title(\"Una figura simple\")\n",
    "plt.show()"
   ]
  },
  {
   "cell_type": "code",
   "execution_count": null,
   "metadata": {},
   "outputs": [],
   "source": [
    "from ipywidgets import interact\n",
    "def graficadoradefincionestrigonometricas(t):\n",
    "    x=np.linspace(-4*np.pi,4*np.pi,500)\n",
    "    y=eval(t)\n",
    "    plt.plot(x,y,label=t)\n",
    "    plt.legend()\n",
    "    return\n",
    "\n",
    "from numpy import *\n",
    "\n",
    "lista=[\"sin(x)\",\"cos(x)\",\"tan(x)\"]\n",
    "\n",
    "interact(graficadoradefincionestrigonometricas,t=lista)"
   ]
  },
  {
   "cell_type": "markdown",
   "metadata": {},
   "source": [
    "No obstante, recordemos que podemos usar instancias para expresar tanto a la figura como los ejes sobre la figura:"
   ]
  },
  {
   "cell_type": "code",
   "execution_count": null,
   "metadata": {},
   "outputs": [],
   "source": [
    "fig = plt.figure()\n",
    "ax = fig.add_subplot(111)\n",
    "ax.plot([1, 2, 3, 4], [10, 20, 25, 30], color='lightblue', linewidth=3)\n",
    "ax.scatter([0.3, 3.8, 1.2, 2.5], [11, 25, 9, 26], color='darkgreen')\n",
    "ax.set_xlim(-2, 6)\n",
    "plt.show()"
   ]
  },
  {
   "cell_type": "markdown",
   "metadata": {},
   "source": [
    "En este ejemplo utilizamos `plt.figure()` para definir la figura y `fig.add_subplot(111)` para crear la *'zona de dibujo'*. Definamos sobre una misma figura varias zonas de dibujo:"
   ]
  },
  {
   "cell_type": "code",
   "execution_count": null,
   "metadata": {},
   "outputs": [],
   "source": [
    "x=np.linspace(0,10,100)\n",
    "fig = plt.figure()\n",
    "\n",
    "ax = fig.add_subplot(221)\n",
    "\n",
    "ax.plot([1, 2, 3, 4], [10, 20, 25, 30], color='lightblue', linewidth=3,label=\"línea\")\n",
    "ax.scatter([0.3, 3.8, 1.2, 2.5], [11, 25, 9, 26], color='darkgreen', marker='^',label=\"marker\")\n",
    "ax.legend()\n",
    "plt.title(\"Primera 'zona de dibujo'\")\n",
    "\n",
    "ax2 = fig.add_subplot(222)\n",
    "\n",
    "ax2.plot(x, x, label='línea')\n",
    "ax2.legend()\n",
    "plt.title(\"Segunda 'zona de dibujo'\")\n",
    "\n",
    "ax3 = fig.add_subplot(223)\n",
    "ax3.plot([1, 2, 3, 4], [10, 20, 25, 30], color='lightblue', linewidth=3,label=\"línea\")\n",
    "ax3.scatter([0.3, 3.8, 1.2, 2.5], [11, 25, 9, 26], color='darkgreen', marker='^',label=\"marker\")\n",
    "ax3.legend()\n",
    "plt.title(\"Tercera 'zona de dibujo'\")\n",
    "\n",
    "ax4 = fig.add_subplot(224)\n",
    "ax4.plot(x, x, label='línea')\n",
    "ax4.legend()\n",
    "plt.title(\"Cuarta 'zona de dibujo'\")\n",
    "plt.show()"
   ]
  },
  {
   "cell_type": "markdown",
   "metadata": {},
   "source": [
    "Las zonas de dibujo (`Axes`) siempre deben vincularse a una Figura. Podemos fijar un título para cada zona usando `set_title()`. Por cada `Axes` tenemos 2 o tres ejes (`Axis`), entre sus funcioes útiles tenemos:\n",
    "\n",
    "**Para controlar el límite de los ejes:**\n",
    "* `axes.Axes.set_xlim()`\n",
    "* `axes.Axes.set_ylim()`\n",
    "\n",
    "**Para fijar una etiqueta en el eje**\n",
    "\n",
    "* `set_xlabel()`\n",
    "* `set_ylabel()`\n",
    "\n",
    "\n",
    "Veamos un ejemplo:"
   ]
  },
  {
   "cell_type": "code",
   "execution_count": null,
   "metadata": {},
   "outputs": [],
   "source": [
    "fig = plt.figure()\n",
    "ax = fig.add_subplot(121)\n",
    "ax.plot([1, 2, 3, 4], [10, 20, 25, 30], color='lightblue', linewidth=3,label=\"línea\")\n",
    "ax.scatter([0.3, 3.8, 1.2, 2.5], [11, 25, 9, 26], color='darkgreen', marker='^',label=\"marker\")\n",
    "ax.set_xlim(0, 4.5)\n",
    "ax.set_ylim(0, 31)\n",
    "ax.set_ylabel(\"Eje y\")\n",
    "ax.set_xlabel(\"Eje x\")\n",
    "ax.legend()\n",
    "ax.set_title(\"Primera 'zona de dibujo'\")\n",
    "ax2 = fig.add_subplot(122)\n",
    "ax2.plot(x, x, label='línea')\n",
    "ax2.legend()\n",
    "ax2.set_title(\"Segunda 'zona de dibujo'\")\n",
    "plt.show()"
   ]
  },
  {
   "cell_type": "markdown",
   "metadata": {},
   "source": [
    "## Diferentes tipos de gráficos\n",
    "\n",
    "Veamos ahora una galería de gráficos utilizados en diferentes contextos. Según los ejemplos anteriores tenemos la posibilidad de graficar puntos sobre el plano utilizando `plt.plot()`"
   ]
  },
  {
   "cell_type": "markdown",
   "metadata": {},
   "source": [
    "### El commando `plt.plot()`"
   ]
  },
  {
   "cell_type": "code",
   "execution_count": null,
   "metadata": {},
   "outputs": [],
   "source": [
    "plt.plot([1,2,4,3,1,2,8,7])\n",
    "plt.ylabel('Una lista de valores')\n",
    "plt.show()"
   ]
  },
  {
   "cell_type": "code",
   "execution_count": null,
   "metadata": {},
   "outputs": [],
   "source": [
    "np.array([[1, 2, 3,4], [1, 4, 9, 16],[3,4,2,16]])"
   ]
  },
  {
   "cell_type": "code",
   "execution_count": null,
   "metadata": {},
   "outputs": [],
   "source": [
    "plt.plot([1,4,3],[[1, 2, 3,4], [1, 4, 9, 16],[3,4,2,16]]) \n",
    "plt.ylabel('Un arreglo en x, un arreglo en y')\n",
    "plt.grid()\n",
    "plt.show()"
   ]
  },
  {
   "cell_type": "code",
   "execution_count": null,
   "metadata": {},
   "outputs": [],
   "source": [
    "import numpy as np\n",
    "\n",
    "x=np.arange(-10,10,0.1)\n",
    "y=np.sin(x)\n",
    "plt.plot(x,y) \n",
    "plt.ylabel('Un gráfico de sen(x)')\n",
    "plt.show()"
   ]
  },
  {
   "cell_type": "markdown",
   "metadata": {},
   "source": [
    "No obstante podemos graficar sin unir los puntos:"
   ]
  },
  {
   "cell_type": "code",
   "execution_count": null,
   "metadata": {},
   "outputs": [],
   "source": [
    "plt.plot([1, 2, 3, 4], [1, 4, 9, 16], '^y')\n",
    "plt.axis([0, 6, 0, 20])\n",
    "plt.show()"
   ]
  },
  {
   "cell_type": "code",
   "execution_count": null,
   "metadata": {},
   "outputs": [],
   "source": [
    "x=np.arange(-10,10,0.1)\n",
    "y=np.sin(x)\n",
    "plt.plot(x,y,'g*') \n",
    "plt.ylabel('Un gráfico de sen(x)')\n",
    "plt.show()"
   ]
  },
  {
   "cell_type": "markdown",
   "metadata": {},
   "source": [
    "**Varias funciones en un mismo gráfico:**"
   ]
  },
  {
   "cell_type": "code",
   "execution_count": null,
   "metadata": {},
   "outputs": [],
   "source": [
    "plt.plot(x,np.sin(x)+np.cos(x) , 'r--', x, np.sin(x), 'bs', x, np.cos(x), 'g^')\n",
    "plt.show()"
   ]
  },
  {
   "cell_type": "code",
   "execution_count": null,
   "metadata": {},
   "outputs": [],
   "source": [
    "x = np.linspace(0, 2, 100)\n",
    "fig, ax = plt.subplots()  # Creamos una instancia de figura y una zona de dibujo.\n",
    "ax.plot(x, x, label='Función lineal')  \n",
    "ax.plot(x, x**2, label='Función cuadrática')  \n",
    "ax.plot(x, x**3, label='Función cúbica') \n",
    "ax.set_xlabel('eje x')  \n",
    "ax.set_ylabel('eje y')  \n",
    "ax.set_title(\"Tres funciones\")  \n",
    "ax.legend()  "
   ]
  },
  {
   "cell_type": "markdown",
   "metadata": {},
   "source": [
    "Usamos estilos y colores para lineas, para mayor información usar: "
   ]
  },
  {
   "cell_type": "code",
   "execution_count": null,
   "metadata": {},
   "outputs": [],
   "source": [
    "line,=plt.plot([1,2,3])\n",
    "plt.setp(line)"
   ]
  },
  {
   "cell_type": "markdown",
   "metadata": {},
   "source": [
    "### Gráficos de dispersión \n",
    "Iniciemos definiendo una base de datos aleatoria:"
   ]
  },
  {
   "cell_type": "code",
   "execution_count": null,
   "metadata": {},
   "outputs": [],
   "source": [
    "data={}\n",
    "data = {'Eje x': np.arange(50),\n",
    "        'Tamaño': np.random.randn(50),\n",
    "        'Color': np.random.randint(0, 50, 50)}\n",
    "data['Eje y'] = data['Eje x'] + 10 * np.random.randn(50)\n",
    "data['Tamaño'] = np.abs(data['Tamaño']) * 100"
   ]
  },
  {
   "cell_type": "code",
   "execution_count": null,
   "metadata": {},
   "outputs": [],
   "source": [
    "data"
   ]
  },
  {
   "cell_type": "code",
   "execution_count": null,
   "metadata": {},
   "outputs": [],
   "source": [
    "data['Eje x']"
   ]
  },
  {
   "cell_type": "code",
   "execution_count": null,
   "metadata": {},
   "outputs": [],
   "source": [
    "data['Eje y']"
   ]
  },
  {
   "cell_type": "code",
   "execution_count": null,
   "metadata": {},
   "outputs": [],
   "source": [
    "plt.scatter('Eje x', 'Eje y',data=data)\n",
    "plt.xlabel('Valores guardados en a')\n",
    "plt.ylabel('Valores guardados en b')\n",
    "plt.show()"
   ]
  },
  {
   "cell_type": "markdown",
   "metadata": {},
   "source": [
    "Introduzcamos variación de tamaños"
   ]
  },
  {
   "cell_type": "code",
   "execution_count": null,
   "metadata": {},
   "outputs": [],
   "source": [
    "plt.scatter('Eje x', 'Eje y',s='Tamaño',data=data)\n",
    "plt.xlabel('Valores guardados en a')\n",
    "plt.ylabel('Valores guardados en b')\n",
    "plt.show()"
   ]
  },
  {
   "cell_type": "markdown",
   "metadata": {},
   "source": [
    "Finalmente usemos colores:"
   ]
  },
  {
   "cell_type": "code",
   "execution_count": null,
   "metadata": {},
   "outputs": [],
   "source": [
    "plt.scatter('Eje x', 'Eje y',s='Tamaño',c='Color',cmap='inferno',data=data)\n",
    "plt.xlabel('Valores guardados en a')\n",
    "plt.ylabel('Valores guardados en b')\n",
    "plt.show()"
   ]
  },
  {
   "cell_type": "markdown",
   "metadata": {},
   "source": [
    "### Gráficos para variables categóricas\n",
    "\n",
    "Con Matplotlib también podemos hacer gráficos de variables categóricas. Un ejemplo simple:"
   ]
  },
  {
   "cell_type": "code",
   "execution_count": null,
   "metadata": {},
   "outputs": [],
   "source": [
    "x=[\"María\", \"Pedro\", \"Juan\"]\n",
    "y=[10,12,8]\n",
    "plt.bar(x,y)"
   ]
  },
  {
   "cell_type": "code",
   "execution_count": null,
   "metadata": {},
   "outputs": [],
   "source": [
    "x=[\"María\", \"Pedro\", \"Juan\"]\n",
    "y=[10,12,8]\n",
    "plt.barh(x,y,color='y')"
   ]
  },
  {
   "cell_type": "code",
   "execution_count": null,
   "metadata": {},
   "outputs": [],
   "source": [
    "x=[\"María\", \"Pedro\", \"Juan\"]\n",
    "y=[10,12,8]\n",
    "plt.plot(x,y)"
   ]
  },
  {
   "cell_type": "code",
   "execution_count": null,
   "metadata": {},
   "outputs": [],
   "source": [
    "x=[\"María\", \"Pedro\", \"Juan\"]\n",
    "y=[10,12,8]\n",
    "plt.scatter(y,x)"
   ]
  },
  {
   "cell_type": "markdown",
   "metadata": {},
   "source": [
    "Un gráfico de barras apilado"
   ]
  },
  {
   "cell_type": "code",
   "execution_count": null,
   "metadata": {},
   "outputs": [],
   "source": [
    "labels = ['G1', 'G2', 'G3', 'G4', 'G5']\n",
    "hombres = [24, 26, 30, 35, 17]\n",
    "mujeres = np.array([22, 31, 44, 18, 30])\n",
    "width = 0.35       \n",
    "fig, ax = plt.subplots()\n",
    "\n",
    "\n",
    "ax.bar(labels, mujeres, width, bottom=hombres,label='Mujeres')\n",
    "ax.bar(labels, hombres, width, label='Hombres')\n",
    "ax.set_ylabel('Puntuaciones')\n",
    "ax.set_title('Puntuaciones por grupo y género')\n",
    "ax.legend()\n"
   ]
  },
  {
   "cell_type": "markdown",
   "metadata": {},
   "source": [
    "Ahora agrupados:"
   ]
  },
  {
   "cell_type": "code",
   "execution_count": null,
   "metadata": {},
   "outputs": [],
   "source": [
    "x = np.arange(len(labels)) \n",
    "fig, ax = plt.subplots()\n",
    "rects1 = ax.bar(x - width/2, hombres, width, label='Hombres')\n",
    "rects2 = ax.bar(x , mujeres+10, width,bottom=5*[10], label='Mujeres')\n",
    "ax.set_xticks(x)\n",
    "ax.set_xticklabels(labels)\n",
    "\n",
    "ax.set_ylabel('Puntuaciones')\n",
    "ax.set_title('Puntuaciones por grupo y género')\n",
    "ax.legend()\n"
   ]
  },
  {
   "cell_type": "markdown",
   "metadata": {},
   "source": [
    "**Histogramas**"
   ]
  },
  {
   "cell_type": "code",
   "execution_count": null,
   "metadata": {},
   "outputs": [],
   "source": [
    "mu, sigma = 100, 15\n",
    "x = mu + sigma * np.random.randn(10000)\n",
    "\n",
    "n, bins, patches = plt.hist(x, 89, density=True, facecolor='y', alpha=0.5)\n",
    "\n",
    "plt.xlabel('Puntaje')\n",
    "plt.ylabel('Probabilidad')\n",
    "plt.title('Histograma')\n",
    "plt.axis([40, 160, 0, 0.03])\n",
    "plt.grid(True)\n",
    "plt.show()\n"
   ]
  },
  {
   "cell_type": "code",
   "execution_count": null,
   "metadata": {},
   "outputs": [],
   "source": [
    "n"
   ]
  },
  {
   "cell_type": "code",
   "execution_count": null,
   "metadata": {},
   "outputs": [],
   "source": [
    "bins"
   ]
  },
  {
   "cell_type": "code",
   "execution_count": null,
   "metadata": {},
   "outputs": [],
   "source": [
    "patches"
   ]
  },
  {
   "cell_type": "code",
   "execution_count": null,
   "metadata": {},
   "outputs": [],
   "source": [
    "mu, sigma = 100, 15\n",
    "x = mu + sigma * np.random.randn(10000)\n",
    "def histograma(n,a):\n",
    "    plt.hist(x, n, density=True, facecolor='y', alpha=a)\n",
    "    plt.xlabel('Puntaje')\n",
    "    plt.ylabel('Probabilidad')\n",
    "    plt.title('Histograma')\n",
    "    plt.axis([40, 160, 0, 0.03])\n",
    "    plt.grid(True)\n",
    "    plt.show()\n",
    "    return"
   ]
  },
  {
   "cell_type": "code",
   "execution_count": null,
   "metadata": {},
   "outputs": [],
   "source": [
    "import ipywidgets as widgets\n",
    "from ipywidgets import interact\n",
    "interact(histograma,n=widgets.IntSlider(value=30,min=1,max=50,description=\"Intervalos\"),\n",
    "         a=widgets.FloatSlider(value=0.5,min=0,max=1,description=\"Transparencia\"))"
   ]
  },
  {
   "cell_type": "code",
   "execution_count": null,
   "metadata": {},
   "outputs": [],
   "source": [
    "from math import sqrt\n",
    "x=25\n",
    "eval(\"sqrt(x)\")"
   ]
  },
  {
   "cell_type": "markdown",
   "metadata": {},
   "source": [
    "### Graficador de funciones"
   ]
  },
  {
   "cell_type": "code",
   "execution_count": null,
   "metadata": {},
   "outputs": [],
   "source": [
    "def graffun(nf,xmin,xmax,ymin,ymax):\n",
    "    try:\n",
    "        x = np.linspace(xmin, xmax, 100)\n",
    "        y=eval(nf)\n",
    "        plt.plot(x,y)\n",
    "        plt.axis([xmin,xmax,ymin,ymax])\n",
    "        plt.grid(True)\n",
    "    except:\n",
    "        print('Error!!')\n",
    "\n",
    "\n",
    "interact(graffun,nf='(x-3)**2',xmin=0,xmax=2*np.pi,ymin=-1,ymax=1)  "
   ]
  },
  {
   "cell_type": "markdown",
   "metadata": {},
   "source": [
    "### Texto en las gráficas\n",
    "\n",
    "Ahora usaremos el comando `plt.text()` y `plt.annotate()` para adicionar texto en el gráfico:"
   ]
  },
  {
   "cell_type": "code",
   "execution_count": null,
   "metadata": {},
   "outputs": [],
   "source": [
    "ax = plt.subplot(111)\n",
    "\n",
    "t = np.arange(0.0, 5.0, 0.01)\n",
    "s = np.cos(2*np.pi*t)\n",
    "line, = plt.plot(t, s, lw=2)\n",
    "\n",
    "plt.text(0.7,1.12,'Un máximo\\nlocal ')\n",
    "\n",
    "plt.ylim(-2, 2)\n",
    "plt.show()"
   ]
  },
  {
   "cell_type": "code",
   "execution_count": null,
   "metadata": {},
   "outputs": [],
   "source": [
    "ax = plt.subplot(111)\n",
    "\n",
    "t = np.arange(0.0, 5.0, 0.01)\n",
    "s = np.cos(2*np.pi*t)\n",
    "line, = plt.plot(t, s, lw=2)\n",
    "\n",
    "plt.text(0.7,1.12,r'$\\left(2\\cdot\\pi\\cdot\\frac{\\pi}{2},1\\right)$')\n",
    "plt.title(r\"Función $\\cos(2\\pi x)$ y un máximo local\")\n",
    "plt.ylim(-2, 2)\n",
    "plt.show()"
   ]
  },
  {
   "cell_type": "markdown",
   "metadata": {},
   "source": [
    "Ahora con una anotación:"
   ]
  },
  {
   "cell_type": "code",
   "execution_count": null,
   "metadata": {},
   "outputs": [],
   "source": [
    "ax = plt.subplot(111)\n",
    "\n",
    "t = np.arange(0.0, 5.0, 0.01)\n",
    "s = np.cos(2*np.pi*t)\n",
    "line, = plt.plot(t, s, lw=2)\n",
    "\n",
    "plt.annotate('Máximo local', xy=(1, 1), xytext=(3, 1.5),\n",
    "             arrowprops=dict(edgecolor='green',facecolor='blue', shrink=0),\n",
    "             )\n",
    "\n",
    "plt.ylim(-2, 2)\n",
    "plt.show()\n"
   ]
  },
  {
   "cell_type": "code",
   "execution_count": null,
   "metadata": {},
   "outputs": [],
   "source": [
    "ax = plt.subplot(111)\n",
    "\n",
    "t1 = np.arange(-5.0,0.001, 0.01)\n",
    "t2 = np.arange(0.01,5.0, 0.01)\n",
    "s1 = 1/t1\n",
    "s2 = 1/t2\n",
    "plt.plot(t1, s1,t2,s2)\n",
    "\n",
    "plt.ylim(-2, 2)\n",
    "plt.show()"
   ]
  },
  {
   "cell_type": "code",
   "execution_count": null,
   "metadata": {},
   "outputs": [],
   "source": [
    "?plt.annotate"
   ]
  },
  {
   "cell_type": "code",
   "execution_count": null,
   "metadata": {},
   "outputs": [],
   "source": [
    "ax = plt.subplot(111)\n",
    "\n",
    "t = np.arange(0.0, 5.0, 0.01)\n",
    "s = np.cos(2*np.pi*t)\n",
    "line, = plt.plot(t, s, lw=2)\n",
    "\n",
    "plt.annotate('Máximo local', xy=(1, 1), xytext=(3, 1.5),\n",
    "             arrowprops=dict(edgecolor='green',facecolor='red', shrink=0.05),)\n",
    "\n",
    "plt.ylim(-2, 2)\n",
    "plt.show()\n"
   ]
  },
  {
   "cell_type": "code",
   "execution_count": null,
   "metadata": {},
   "outputs": [],
   "source": [
    "def estiloflecha(l):\n",
    "    ax = plt.subplot(111)\n",
    "\n",
    "    t = np.arange(0.0, 5.0, 0.01)\n",
    "    s = np.cos(2*np.pi*t)\n",
    "    line, = plt.plot(t, s, lw=2)\n",
    "\n",
    "    plt.annotate('Máximo local', xy=(1, 1), xytext=(3, 1.5),\n",
    "                 arrowprops=dict(edgecolor='green',facecolor='red', arrowstyle=l),)\n",
    "\n",
    "    plt.ylim(-2, 2)\n",
    "    plt.show()\n",
    "    return\n",
    "\n"
   ]
  },
  {
   "cell_type": "code",
   "execution_count": null,
   "metadata": {},
   "outputs": [],
   "source": [
    "interact(estiloflecha,l=['-','->','-[','|-|','-|>','fancy','simple','wedge'])"
   ]
  },
  {
   "cell_type": "markdown",
   "metadata": {},
   "source": [
    "## Backends\n",
    "\n",
    "Al usar Jupyter nosotros estamos pidiendo que el gráfico se pueda visualizar en el entorno web en el cual se está mostrando las salidas de Python. Sin embargo, es posible visalizar estos mismos gráficos en otras interfáces gráficas más potentes ycon más herramientas. \n",
    "\n",
    "Matplotlib permite utilizar las diferentes interfáces haciendo modificación en su backend, entendiendo al backend como el motor gráfico que genera las diferentes imagenes que imaginamos.\n",
    "\n",
    "Para modificar el backend usado en Jupyter usamos un comándo mágico `%matplotlib`. Veamos algunos ejemplos:"
   ]
  },
  {
   "cell_type": "code",
   "execution_count": null,
   "metadata": {},
   "outputs": [],
   "source": [
    "import matplotlib"
   ]
  },
  {
   "cell_type": "code",
   "execution_count": null,
   "metadata": {},
   "outputs": [],
   "source": [
    "import matplotlib\n",
    "import matplotlib.pyplot as plt\n",
    "import numpy as np"
   ]
  },
  {
   "cell_type": "code",
   "execution_count": null,
   "metadata": {},
   "outputs": [],
   "source": [
    "%matplotlib notebook\n",
    "ax = plt.subplot(111)\n",
    "t = np.arange(0.0, 5.0, 0.01)\n",
    "s = np.cos(2*np.pi*t)\n",
    "line, = plt.plot(t, s, lw=2)\n",
    "plt.text(0.7,1.12,'Un máximo\\nlocal ')\n",
    "plt.ylim(-2, 2)\n",
    "plt.show()"
   ]
  },
  {
   "cell_type": "code",
   "execution_count": null,
   "metadata": {},
   "outputs": [],
   "source": [
    "!pip install mpld3"
   ]
  },
  {
   "cell_type": "code",
   "execution_count": null,
   "metadata": {},
   "outputs": [],
   "source": [
    "import matplotlib\n",
    "import matplotlib.pyplot as plt\n",
    "import numpy as np\n",
    "import mpld3\n",
    "mpld3.enable_notebook()\n",
    "ax = plt.subplot(111)\n",
    "t = np.arange(0.0, 5.0, 0.01)\n",
    "s = np.cos(2*np.pi*t)\n",
    "line, = plt.plot(t, s, lw=2)\n",
    "plt.text(0.7,1.12,'Un máximo\\nlocal ')\n",
    "plt.ylim(-2, 2)\n",
    "plt.show()"
   ]
  },
  {
   "cell_type": "markdown",
   "metadata": {},
   "source": [
    "# Herramientas interactivas `ipywidgets`\n",
    "\n",
    "Otro paquete que será transversal en este curso y nos permitira crear interfaces interesantes para nuestros estudiantes es [ipywidgets`](https://ipywidgets.readthedocs.io/en/stable/). Para instalar desde el cuaderno escriba:"
   ]
  },
  {
   "cell_type": "code",
   "execution_count": null,
   "metadata": {},
   "outputs": [],
   "source": [
    "!pip install ipywidgets"
   ]
  },
  {
   "cell_type": "code",
   "execution_count": null,
   "metadata": {},
   "outputs": [],
   "source": [
    " pip install seaborn"
   ]
  },
  {
   "cell_type": "code",
   "execution_count": null,
   "metadata": {},
   "outputs": [],
   "source": [
    "!jupyter nbextension enable --py widgetsnbextension"
   ]
  },
  {
   "cell_type": "markdown",
   "metadata": {},
   "source": [
    "Importemos el paquete"
   ]
  },
  {
   "cell_type": "code",
   "execution_count": null,
   "metadata": {},
   "outputs": [],
   "source": [
    "from ipywidgets import interact\n",
    "import ipywidgets as widgets"
   ]
  },
  {
   "cell_type": "markdown",
   "metadata": {},
   "source": [
    "La herramienta más básica de este paquete es la función `interact`. En el siguiente ejemplo veamos su utilidad:"
   ]
  },
  {
   "cell_type": "code",
   "execution_count": null,
   "metadata": {},
   "outputs": [],
   "source": [
    "def f(x):\n",
    "    print(\"El valor que escogió es\", x)\n",
    "    return x"
   ]
  },
  {
   "cell_type": "code",
   "execution_count": null,
   "metadata": {},
   "outputs": [],
   "source": [
    "f(4)"
   ]
  },
  {
   "cell_type": "code",
   "execution_count": null,
   "metadata": {},
   "outputs": [],
   "source": [
    "def f(x):\n",
    "    y=x+5\n",
    "    print(x,\"+\",5,\"=\",y)\n",
    "    return y"
   ]
  },
  {
   "cell_type": "code",
   "execution_count": null,
   "metadata": {},
   "outputs": [],
   "source": [
    "f(8)"
   ]
  },
  {
   "cell_type": "code",
   "execution_count": null,
   "metadata": {},
   "outputs": [],
   "source": [
    "def nombrelargoocorto(t):\n",
    "    if len(t)>=7:\n",
    "        print(t+\" es un nombre muy largo\")\n",
    "        z=\"largo\"\n",
    "    else:\n",
    "        print(t+\" es un nombre corto\")\n",
    "        z=\"corto\"\n",
    "    return z"
   ]
  },
  {
   "cell_type": "code",
   "execution_count": null,
   "metadata": {},
   "outputs": [],
   "source": [
    "nombrelargoocorto(\"Benjamin\")"
   ]
  },
  {
   "cell_type": "code",
   "execution_count": null,
   "metadata": {},
   "outputs": [],
   "source": [
    "def f(x):\n",
    "    y=x+5\n",
    "    print(x,\"+\",5,\"=\",y)\n",
    "    return y"
   ]
  },
  {
   "cell_type": "code",
   "execution_count": null,
   "metadata": {},
   "outputs": [],
   "source": [
    "interact(f, x=1.2)"
   ]
  },
  {
   "cell_type": "code",
   "execution_count": null,
   "metadata": {},
   "outputs": [],
   "source": [
    "interact(nombrelargoocorto, t=\"Isaac\")"
   ]
  },
  {
   "cell_type": "code",
   "execution_count": null,
   "metadata": {},
   "outputs": [],
   "source": [
    "def f(x):\n",
    "    print(\"El valor que escogió es\", x)\n",
    "    return x"
   ]
  },
  {
   "cell_type": "code",
   "execution_count": null,
   "metadata": {},
   "outputs": [],
   "source": [
    "interact(f, x=True)"
   ]
  },
  {
   "cell_type": "code",
   "execution_count": null,
   "metadata": {},
   "outputs": [],
   "source": [
    "interact(f, x={0:'Elemento 1',1:'Elemento 2'})"
   ]
  },
  {
   "cell_type": "code",
   "execution_count": null,
   "metadata": {},
   "outputs": [],
   "source": [
    "interact(f, x='Soy interactivo')"
   ]
  },
  {
   "cell_type": "markdown",
   "metadata": {},
   "source": [
    "Los elementos que permiten la interacción con el usuario son los widgets, una lista completa de ellos se encuentra [aquí.](https://ipywidgets.readthedocs.io/en/stable/examples/Widget%20List.html)"
   ]
  },
  {
   "cell_type": "markdown",
   "metadata": {},
   "source": [
    "A continuación hacemos un cambio sobre el widget:"
   ]
  },
  {
   "cell_type": "code",
   "execution_count": null,
   "metadata": {},
   "outputs": [],
   "source": [
    "interact(f, x=widgets.IntText(\n",
    "    value=7,\n",
    "    description='Escriba un número: ',\n",
    "    disabled=False\n",
    "));"
   ]
  },
  {
   "cell_type": "markdown",
   "metadata": {},
   "source": [
    "## Una primera aplicación\n",
    "\n",
    "Ya que conocemos algo de Numpy y ipywidgets vamos a crear un ejemplo muy sencillo para calcular algunos estadísticos elementales de una lista de valores:"
   ]
  },
  {
   "cell_type": "code",
   "execution_count": null,
   "metadata": {},
   "outputs": [],
   "source": [
    "def estadisticos(x):\n",
    "    L=x.split()\n",
    "    L=[float(i) for i in L]        \n",
    "    x=np.array(list(L))\n",
    "    print(\"La media es\", np.mean(x))\n",
    "    print(\"La mediana es\", np.median(x))\n",
    "    print(\"La varianza poblacional es\", np.var(x))\n",
    "    print(\"La varianza muestral es\", np.var(x,ddof=1))\n",
    "    print(\"La desviación estándar poblacional es\", np.std(x))\n",
    "    print(\"La desviación estándar muestral es\", np.std(x,ddof=1))\n",
    "    return"
   ]
  },
  {
   "cell_type": "code",
   "execution_count": null,
   "metadata": {},
   "outputs": [],
   "source": [
    "estadisticos(\"1 2 3\")"
   ]
  },
  {
   "cell_type": "markdown",
   "metadata": {
    "solution2": "shown",
    "solution2_first": true
   },
   "source": [
    "Evalue los estadísticos del conjunto de datos [1,1,2,3] y compruebelo con la herramienta:"
   ]
  },
  {
   "cell_type": "code",
   "execution_count": null,
   "metadata": {},
   "outputs": [],
   "source": [
    "estadisticos(\"1 2 3 4 5 7 8 3 1 3 4 1 3 4 8 0 9\")"
   ]
  },
  {
   "cell_type": "code",
   "execution_count": null,
   "metadata": {
    "scrolled": true,
    "solution2": "shown"
   },
   "outputs": [],
   "source": [
    "interact(estadisticos,x=\"1 2 3\")"
   ]
  },
  {
   "cell_type": "code",
   "execution_count": null,
   "metadata": {
    "solution2": "shown"
   },
   "outputs": [],
   "source": [
    "def estadisticos(x):\n",
    "    try:\n",
    "        L=x.split()\n",
    "        L=[float(i) for i in L]        \n",
    "        x=np.array(list(L))\n",
    "        print(\"La media es\", np.mean(x))\n",
    "        print(\"La mediana es\", np.median(x))\n",
    "        print(\"La varianza poblacional es\", np.var(x))\n",
    "        print(\"La varianza muestral es\", np.var(x,ddof=1))\n",
    "        print(\"La desviación estándar poblacional es\", np.std(x))\n",
    "        print(\"La desviación estándar muestral es\", np.std(x,ddof=1))\n",
    "    except:\n",
    "        print(\"Cuidado con lo que escribe, solo se admiten valores numéricos\")\n",
    "    return"
   ]
  },
  {
   "cell_type": "code",
   "execution_count": null,
   "metadata": {
    "scrolled": true
   },
   "outputs": [],
   "source": [
    "interact(estadisticos,x=\"1 2 3\")"
   ]
  },
  {
   "cell_type": "code",
   "execution_count": null,
   "metadata": {},
   "outputs": [],
   "source": [
    "def txttomtx(x):\n",
    "    L=x.split()\n",
    "    L=[float(i) for i in L]\n",
    "    e=np.sqrt(len(L))\n",
    "    d=int(e)\n",
    "    k=0\n",
    "    M=np.zeros((d,d))\n",
    "    for i in range(d):\n",
    "        for j in range(d):\n",
    "            M[i,j]=L[k]\n",
    "            k=k+1\n",
    "    return M"
   ]
  },
  {
   "cell_type": "code",
   "execution_count": null,
   "metadata": {},
   "outputs": [],
   "source": [
    "txttomtx(\"1 2 3 4\")"
   ]
  },
  {
   "cell_type": "code",
   "execution_count": null,
   "metadata": {},
   "outputs": [],
   "source": [
    "M=txttomtx(\"1 2 3 4\")"
   ]
  },
  {
   "cell_type": "code",
   "execution_count": null,
   "metadata": {},
   "outputs": [],
   "source": [
    "M"
   ]
  },
  {
   "cell_type": "code",
   "execution_count": null,
   "metadata": {},
   "outputs": [],
   "source": [
    "np.linalg.det(M)"
   ]
  },
  {
   "cell_type": "code",
   "execution_count": null,
   "metadata": {},
   "outputs": [],
   "source": [
    "def matrizopun(x,y):\n",
    "    try:\n",
    "        M=txttomtx(x)\n",
    "        M2=txttomtx(y)\n",
    "        SM=M+M2\n",
    "        print(\"La suma es:\",SM)\n",
    "    except:\n",
    "        print(\"Cuidado con lo que escribe, solo se admiten valores numéricos\")\n",
    "    return"
   ]
  },
  {
   "cell_type": "code",
   "execution_count": null,
   "metadata": {},
   "outputs": [],
   "source": [
    "interact(matrizopun,x=\"1 2 3 4\",y=\"1 2 3 4\")"
   ]
  },
  {
   "cell_type": "code",
   "execution_count": null,
   "metadata": {},
   "outputs": [],
   "source": [
    "import ipywidgets as widgets\n",
    "from ipywidgets import interact, Layout\n"
   ]
  },
  {
   "cell_type": "code",
   "execution_count": null,
   "metadata": {},
   "outputs": [],
   "source": [
    "widgets.Textarea(\n",
    "    value='Hello World',\n",
    "    placeholder='Type something',\n",
    "    description='Una descripción muy laaaarga:')"
   ]
  },
  {
   "cell_type": "code",
   "execution_count": null,
   "metadata": {},
   "outputs": [],
   "source": [
    "style = {'description_width': 'initial'}\n",
    "l = Layout( height='80px', width='auto')\n",
    "widgets.Textarea(\n",
    "    value='Hello World',\n",
    "    placeholder='Type something',\n",
    "    description='Una descripción muy laaaarga:',\n",
    "    style=style,\n",
    "    layout=l)"
   ]
  },
  {
   "cell_type": "code",
   "execution_count": null,
   "metadata": {
    "scrolled": true
   },
   "outputs": [],
   "source": [
    "style = {'description_width': 'initial'}\n",
    "l = Layout( height='80px', width='auto')\n",
    "def convertidodematrices(A):\n",
    "    B=A.split(\"\\n\")\n",
    "    Matriz=[]\n",
    "    for i in B:\n",
    "        Matriz.append([int(j) for j in i.split()])\n",
    "    print(Matriz)\n",
    "    \n",
    "    \n",
    "A=widgets.Textarea(\n",
    "    value='1 2 3',\n",
    "    placeholder='Type something',\n",
    "    description='Una descripción muy laaaarga:',\n",
    "    style=style,\n",
    "    layout=l)\n",
    "\n",
    "interact(convertidodematrices,A=A)"
   ]
  }
 ],
 "metadata": {
  "kernelspec": {
   "display_name": "Python 3",
   "language": "python",
   "name": "python3"
  },
  "language_info": {
   "codemirror_mode": {
    "name": "ipython",
    "version": 3
   },
   "file_extension": ".py",
   "mimetype": "text/x-python",
   "name": "python",
   "nbconvert_exporter": "python",
   "pygments_lexer": "ipython3",
   "version": "3.8.8"
  },
  "toc": {
   "base_numbering": 1,
   "nav_menu": {},
   "number_sections": true,
   "sideBar": false,
   "skip_h1_title": false,
   "title_cell": "Matplotlib - Gráficos en Python",
   "title_sidebar": "Cuaderno Matplotlib",
   "toc_cell": true,
   "toc_position": {
    "height": "calc(100% - 180px)",
    "left": "10px",
    "top": "150px",
    "width": "165px"
   },
   "toc_section_display": false,
   "toc_window_display": false
  }
 },
 "nbformat": 4,
 "nbformat_minor": 4
}
